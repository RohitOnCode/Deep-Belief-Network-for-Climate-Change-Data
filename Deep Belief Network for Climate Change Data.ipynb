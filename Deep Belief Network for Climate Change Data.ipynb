{
 "cells": [
  {
   "cell_type": "code",
   "execution_count": null,
   "id": "b6c32fcc",
   "metadata": {},
   "outputs": [],
   "source": [
    "import numpy as np\n",
    "import pandas as pd\n",
    "import seaborn as sns\n",
    "import matplotlib.pyplot as plt\n",
    "from sklearn.neural_network import BernoulliRBM\n",
    "from sklearn.pipeline import Pipeline\n",
    "from sklearn.preprocessing import MinMaxScaler\n",
    "\n",
    "# Generate synthetic climate data from 1990 to 2024\n",
    "np.random.seed(42)\n",
    "years = np.arange(1990, 2025)\n",
    "temperature_change = np.random.uniform(-0.5, 0.5, len(years))  # Random temperature changes in Celsius\n",
    "co2_levels = np.random.uniform(350, 400, len(years))  # CO2 levels in PPM\n",
    "data = pd.DataFrame({'Year': years, 'Temperature_Change': temperature_change, 'CO2_Levels': co2_levels})\n",
    "\n",
    "# Normalize the data\n",
    "scaler = MinMaxScaler()\n",
    "data_normalized = scaler.fit_transform(data[['Temperature_Change', 'CO2_Levels']])\n",
    "\n",
    "# Create the DBN with BernoulliRBM\n",
    "rbm = BernoulliRBM(n_components=2, learning_rate=0.01, n_iter=100, random_state=42)\n",
    "dbn = Pipeline(steps=[('rbm', rbm)])\n",
    "\n",
    "# Fit the DBN model\n",
    "dbn.fit(data_normalized)\n",
    "\n",
    "# Transform the data\n",
    "data_transformed = dbn.transform(data_normalized)\n",
    "\n",
    "# Convert the transformed data back to a DataFrame for visualization\n",
    "transformed_df = pd.DataFrame(data_transformed, columns=['Feature_1', 'Feature_2'])\n",
    "transformed_df['Year'] = years\n",
    "\n",
    "# Visualize the transformed features over the years using Seaborn\n",
    "plt.figure(figsize=(10, 6))\n",
    "sns.lineplot(x='Year', y='Feature_1', data=transformed_df, label='Feature 1')\n",
    "sns.lineplot(x='Year', y='Feature_2', data=transformed_df, label='Feature 2')\n",
    "plt.title('DBN Transformed Features of Climate Data Over Years')\n",
    "plt.xlabel('Year')\n",
    "plt.ylabel('Transformed Features')\n",
    "plt.legend()\n",
    "plt.show()\n"
   ]
  }
 ],
 "metadata": {
  "kernelspec": {
   "display_name": "Python 3 (ipykernel)",
   "language": "python",
   "name": "python3"
  },
  "language_info": {
   "codemirror_mode": {
    "name": "ipython",
    "version": 3
   },
   "file_extension": ".py",
   "mimetype": "text/x-python",
   "name": "python",
   "nbconvert_exporter": "python",
   "pygments_lexer": "ipython3",
   "version": "3.10.9"
  }
 },
 "nbformat": 4,
 "nbformat_minor": 5
}
